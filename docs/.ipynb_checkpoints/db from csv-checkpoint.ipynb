{
 "cells": [
  {
   "cell_type": "markdown",
   "metadata": {},
   "source": [
    "First, import the relevant libraries"
   ]
  },
  {
   "cell_type": "code",
   "execution_count": 1,
   "metadata": {
    "collapsed": true
   },
   "outputs": [],
   "source": [
    "import csv_to_hybrid as c2h\n",
    "import hybrid"
   ]
  },
  {
   "cell_type": "markdown",
   "metadata": {},
   "source": [
    "Next, we define our database type in a variable. Feel free to change to whatever database type you are using (such as \"couchdb\")"
   ]
  },
  {
   "cell_type": "code",
   "execution_count": 2,
   "metadata": {
    "collapsed": true
   },
   "outputs": [],
   "source": [
    "dbtype=\"mongodb\""
   ]
  },
  {
   "cell_type": "markdown",
   "metadata": {},
   "source": [
    "We use the csv_to_hybrid module to load the iris dataset into our database. \n",
    "\n",
    "import_from_csv(filepath,dbname,dbtype)"
   ]
  },
  {
   "cell_type": "code",
   "execution_count": 3,
   "metadata": {
    "collapsed": true
   },
   "outputs": [],
   "source": [
    "newdb=c2h.import_from_csv(\"./iris.csv\",\"notebook_iris\",dbtype)"
   ]
  },
  {
   "cell_type": "markdown",
   "metadata": {},
   "source": [
    "So now, iris is loaded. We can now query the database using the Hybrid API.\n",
    "\n",
    "Each individual record in the databases are referred to as a dataBlob in the Hybrid API. Regardless of the underlying database, each individual dataBlob has a unique ID, called dataBlobID. This is in addition to any unique IDs supported by the database, itself. For instance, MongoDB uses the \"\\_id\" field to give a unique index to each record.\n",
    "\n",
    "If we knew the dataBlobID for a record, we could pull it out using the loadDataBlob. However, as we loaded this from a CSV, we cannot know that now. So we will have to resort to a query.\n",
    "\n",
    "The function newdb.createQueryInfo() creates a queryInfo python dictionary. This dictionary contains all the info needed to specify a database query, including the name of the database, the host, type of database, the name of the query itself, and any tag information."
   ]
  },
  {
   "cell_type": "code",
   "execution_count": 4,
   "metadata": {
    "collapsed": true
   },
   "outputs": [],
   "source": [
    "query_info=newdb.createQueryInfo()"
   ]
  },
  {
   "cell_type": "markdown",
   "metadata": {},
   "source": [
    "From here, we can create a document view for all database documents which fit the query specifications."
   ]
  },
  {
   "cell_type": "code",
   "execution_count": 5,
   "metadata": {
    "collapsed": true
   },
   "outputs": [],
   "source": [
    "document_view = hybrid.view.create_view_from_query_info(query_info)"
   ]
  },
  {
   "cell_type": "markdown",
   "metadata": {},
   "source": [
    "Calling rows() from this view returns a python list of data_blobs."
   ]
  },
  {
   "cell_type": "code",
   "execution_count": 8,
   "metadata": {
    "collapsed": true
   },
   "outputs": [],
   "source": [
    "rows=document_view.rows()"
   ]
  },
  {
   "cell_type": "code",
   "execution_count": 9,
   "metadata": {
    "collapsed": false
   },
   "outputs": [
    {
     "data": {
      "text/plain": [
       "[<hybrid.data_blob.data_blob instance at 0x1092b2b48>,\n",
       " <hybrid.data_blob.data_blob instance at 0x1092b2bd8>,\n",
       " <hybrid.data_blob.data_blob instance at 0x1092b2c68>,\n",
       " <hybrid.data_blob.data_blob instance at 0x1092b2cf8>,\n",
       " <hybrid.data_blob.data_blob instance at 0x1092b2d88>,\n",
       " <hybrid.data_blob.data_blob instance at 0x1092b2e18>,\n",
       " <hybrid.data_blob.data_blob instance at 0x1092b2ea8>,\n",
       " <hybrid.data_blob.data_blob instance at 0x1092b2f38>,\n",
       " <hybrid.data_blob.data_blob instance at 0x1092b2fc8>,\n",
       " <hybrid.data_blob.data_blob instance at 0x1092a6878>,\n",
       " <hybrid.data_blob.data_blob instance at 0x1092a6908>,\n",
       " <hybrid.data_blob.data_blob instance at 0x1092a6998>,\n",
       " <hybrid.data_blob.data_blob instance at 0x1092a6a28>,\n",
       " <hybrid.data_blob.data_blob instance at 0x1092a6ab8>,\n",
       " <hybrid.data_blob.data_blob instance at 0x1092a6b48>,\n",
       " <hybrid.data_blob.data_blob instance at 0x1092a6bd8>,\n",
       " <hybrid.data_blob.data_blob instance at 0x1092a6c68>,\n",
       " <hybrid.data_blob.data_blob instance at 0x1092a6cf8>,\n",
       " <hybrid.data_blob.data_blob instance at 0x1092a6d88>,\n",
       " <hybrid.data_blob.data_blob instance at 0x1092a6e18>,\n",
       " <hybrid.data_blob.data_blob instance at 0x1092a6ea8>,\n",
       " <hybrid.data_blob.data_blob instance at 0x1092a6f38>,\n",
       " <hybrid.data_blob.data_blob instance at 0x1092a6fc8>,\n",
       " <hybrid.data_blob.data_blob instance at 0x1094e88c0>,\n",
       " <hybrid.data_blob.data_blob instance at 0x1094e8950>,\n",
       " <hybrid.data_blob.data_blob instance at 0x1094e89e0>,\n",
       " <hybrid.data_blob.data_blob instance at 0x1094e8a70>,\n",
       " <hybrid.data_blob.data_blob instance at 0x1094e8b00>,\n",
       " <hybrid.data_blob.data_blob instance at 0x1094e8c20>,\n",
       " <hybrid.data_blob.data_blob instance at 0x1094e8d40>,\n",
       " <hybrid.data_blob.data_blob instance at 0x1094e8e60>,\n",
       " <hybrid.data_blob.data_blob instance at 0x1094e8f80>,\n",
       " <hybrid.data_blob.data_blob instance at 0x10ac110e0>,\n",
       " <hybrid.data_blob.data_blob instance at 0x10ac11200>,\n",
       " <hybrid.data_blob.data_blob instance at 0x10ac11320>,\n",
       " <hybrid.data_blob.data_blob instance at 0x10ac11440>,\n",
       " <hybrid.data_blob.data_blob instance at 0x10ac11560>,\n",
       " <hybrid.data_blob.data_blob instance at 0x10ac11680>,\n",
       " <hybrid.data_blob.data_blob instance at 0x10ac117a0>,\n",
       " <hybrid.data_blob.data_blob instance at 0x10ac118c0>,\n",
       " <hybrid.data_blob.data_blob instance at 0x10ac119e0>,\n",
       " <hybrid.data_blob.data_blob instance at 0x10ac11b00>,\n",
       " <hybrid.data_blob.data_blob instance at 0x10ac11c20>,\n",
       " <hybrid.data_blob.data_blob instance at 0x10ac11d40>,\n",
       " <hybrid.data_blob.data_blob instance at 0x10ac11e60>,\n",
       " <hybrid.data_blob.data_blob instance at 0x10ac11f80>,\n",
       " <hybrid.data_blob.data_blob instance at 0x10ac1e0e0>,\n",
       " <hybrid.data_blob.data_blob instance at 0x10ac1e200>,\n",
       " <hybrid.data_blob.data_blob instance at 0x10ac1e320>,\n",
       " <hybrid.data_blob.data_blob instance at 0x10ac1e440>,\n",
       " <hybrid.data_blob.data_blob instance at 0x10ac1e560>,\n",
       " <hybrid.data_blob.data_blob instance at 0x10ac1e680>,\n",
       " <hybrid.data_blob.data_blob instance at 0x10ac1e7a0>,\n",
       " <hybrid.data_blob.data_blob instance at 0x10ac1e8c0>,\n",
       " <hybrid.data_blob.data_blob instance at 0x10ac1e9e0>,\n",
       " <hybrid.data_blob.data_blob instance at 0x10ac1eb00>,\n",
       " <hybrid.data_blob.data_blob instance at 0x10ac1ec20>,\n",
       " <hybrid.data_blob.data_blob instance at 0x10ac1ed40>,\n",
       " <hybrid.data_blob.data_blob instance at 0x10ac1ee60>,\n",
       " <hybrid.data_blob.data_blob instance at 0x10ac1ef80>,\n",
       " <hybrid.data_blob.data_blob instance at 0x10ac290e0>,\n",
       " <hybrid.data_blob.data_blob instance at 0x10ac29200>,\n",
       " <hybrid.data_blob.data_blob instance at 0x10ac29320>,\n",
       " <hybrid.data_blob.data_blob instance at 0x10ac29440>,\n",
       " <hybrid.data_blob.data_blob instance at 0x10ac29560>,\n",
       " <hybrid.data_blob.data_blob instance at 0x10ac29680>,\n",
       " <hybrid.data_blob.data_blob instance at 0x10ac297a0>,\n",
       " <hybrid.data_blob.data_blob instance at 0x10ac298c0>,\n",
       " <hybrid.data_blob.data_blob instance at 0x10ac299e0>,\n",
       " <hybrid.data_blob.data_blob instance at 0x10ac29b00>,\n",
       " <hybrid.data_blob.data_blob instance at 0x10ac29c20>,\n",
       " <hybrid.data_blob.data_blob instance at 0x10ac29d40>,\n",
       " <hybrid.data_blob.data_blob instance at 0x10ac29e60>,\n",
       " <hybrid.data_blob.data_blob instance at 0x10ac29f80>,\n",
       " <hybrid.data_blob.data_blob instance at 0x10ac370e0>,\n",
       " <hybrid.data_blob.data_blob instance at 0x10ac37200>,\n",
       " <hybrid.data_blob.data_blob instance at 0x10ac37320>,\n",
       " <hybrid.data_blob.data_blob instance at 0x10ac37440>,\n",
       " <hybrid.data_blob.data_blob instance at 0x10ac37560>,\n",
       " <hybrid.data_blob.data_blob instance at 0x10ac37680>,\n",
       " <hybrid.data_blob.data_blob instance at 0x10ac377a0>,\n",
       " <hybrid.data_blob.data_blob instance at 0x10ac37908>,\n",
       " <hybrid.data_blob.data_blob instance at 0x10ac37a28>,\n",
       " <hybrid.data_blob.data_blob instance at 0x10ac37b00>,\n",
       " <hybrid.data_blob.data_blob instance at 0x10ac37c20>,\n",
       " <hybrid.data_blob.data_blob instance at 0x10ac37d40>,\n",
       " <hybrid.data_blob.data_blob instance at 0x10ac37e60>,\n",
       " <hybrid.data_blob.data_blob instance at 0x10ac37f80>,\n",
       " <hybrid.data_blob.data_blob instance at 0x10ac440e0>,\n",
       " <hybrid.data_blob.data_blob instance at 0x10ac44200>,\n",
       " <hybrid.data_blob.data_blob instance at 0x10ac44320>,\n",
       " <hybrid.data_blob.data_blob instance at 0x10ac44440>,\n",
       " <hybrid.data_blob.data_blob instance at 0x10ac44560>,\n",
       " <hybrid.data_blob.data_blob instance at 0x10ac44680>,\n",
       " <hybrid.data_blob.data_blob instance at 0x10ac447a0>,\n",
       " <hybrid.data_blob.data_blob instance at 0x10ac448c0>,\n",
       " <hybrid.data_blob.data_blob instance at 0x10ac449e0>,\n",
       " <hybrid.data_blob.data_blob instance at 0x10ac44b00>,\n",
       " <hybrid.data_blob.data_blob instance at 0x10ac44c20>,\n",
       " <hybrid.data_blob.data_blob instance at 0x10ac44d40>,\n",
       " <hybrid.data_blob.data_blob instance at 0x10ac44e60>,\n",
       " <hybrid.data_blob.data_blob instance at 0x10ac44f80>,\n",
       " <hybrid.data_blob.data_blob instance at 0x10ac500e0>,\n",
       " <hybrid.data_blob.data_blob instance at 0x10ac50200>,\n",
       " <hybrid.data_blob.data_blob instance at 0x10ac50320>,\n",
       " <hybrid.data_blob.data_blob instance at 0x10ac50440>,\n",
       " <hybrid.data_blob.data_blob instance at 0x10ac50560>,\n",
       " <hybrid.data_blob.data_blob instance at 0x10ac50680>,\n",
       " <hybrid.data_blob.data_blob instance at 0x10ac507a0>,\n",
       " <hybrid.data_blob.data_blob instance at 0x10ac508c0>,\n",
       " <hybrid.data_blob.data_blob instance at 0x10ac509e0>,\n",
       " <hybrid.data_blob.data_blob instance at 0x10ac50b00>,\n",
       " <hybrid.data_blob.data_blob instance at 0x10ac50c20>,\n",
       " <hybrid.data_blob.data_blob instance at 0x10ac50d40>,\n",
       " <hybrid.data_blob.data_blob instance at 0x10ac50e60>,\n",
       " <hybrid.data_blob.data_blob instance at 0x10ac50f80>,\n",
       " <hybrid.data_blob.data_blob instance at 0x10ac5b0e0>,\n",
       " <hybrid.data_blob.data_blob instance at 0x10ac5b200>,\n",
       " <hybrid.data_blob.data_blob instance at 0x10ac5b320>,\n",
       " <hybrid.data_blob.data_blob instance at 0x10ac5b440>,\n",
       " <hybrid.data_blob.data_blob instance at 0x10ac5b560>,\n",
       " <hybrid.data_blob.data_blob instance at 0x10ac5b680>,\n",
       " <hybrid.data_blob.data_blob instance at 0x10ac5b7a0>,\n",
       " <hybrid.data_blob.data_blob instance at 0x10ac5b8c0>,\n",
       " <hybrid.data_blob.data_blob instance at 0x10ac5b9e0>,\n",
       " <hybrid.data_blob.data_blob instance at 0x10ac5bb00>,\n",
       " <hybrid.data_blob.data_blob instance at 0x10ac5bc20>,\n",
       " <hybrid.data_blob.data_blob instance at 0x10ac5bd40>,\n",
       " <hybrid.data_blob.data_blob instance at 0x10ac5be60>,\n",
       " <hybrid.data_blob.data_blob instance at 0x10ac5bf80>,\n",
       " <hybrid.data_blob.data_blob instance at 0x10ac6a0e0>,\n",
       " <hybrid.data_blob.data_blob instance at 0x10ac6a200>,\n",
       " <hybrid.data_blob.data_blob instance at 0x10ac6a320>,\n",
       " <hybrid.data_blob.data_blob instance at 0x10ac6a440>,\n",
       " <hybrid.data_blob.data_blob instance at 0x10ac6a560>,\n",
       " <hybrid.data_blob.data_blob instance at 0x10ac6a680>,\n",
       " <hybrid.data_blob.data_blob instance at 0x10ac6a7a0>,\n",
       " <hybrid.data_blob.data_blob instance at 0x10ac6a8c0>,\n",
       " <hybrid.data_blob.data_blob instance at 0x10ac6a9e0>,\n",
       " <hybrid.data_blob.data_blob instance at 0x10ac6ab00>,\n",
       " <hybrid.data_blob.data_blob instance at 0x10ac6ac20>,\n",
       " <hybrid.data_blob.data_blob instance at 0x10ac6ad40>,\n",
       " <hybrid.data_blob.data_blob instance at 0x10ac6ae60>,\n",
       " <hybrid.data_blob.data_blob instance at 0x10ac6af80>,\n",
       " <hybrid.data_blob.data_blob instance at 0x10ac740e0>,\n",
       " <hybrid.data_blob.data_blob instance at 0x10ac74200>,\n",
       " <hybrid.data_blob.data_blob instance at 0x10ac74320>,\n",
       " <hybrid.data_blob.data_blob instance at 0x10ac74440>,\n",
       " <hybrid.data_blob.data_blob instance at 0x10ac74560>,\n",
       " <hybrid.data_blob.data_blob instance at 0x10ac74680>]"
      ]
     },
     "execution_count": 9,
     "metadata": {},
     "output_type": "execute_result"
    }
   ],
   "source": [
    "rows"
   ]
  },
  {
   "cell_type": "code",
   "execution_count": 12,
   "metadata": {
    "collapsed": false
   },
   "outputs": [
    {
     "data": {
      "text/plain": [
       "u'setosa'"
      ]
     },
     "execution_count": 12,
     "metadata": {},
     "output_type": "execute_result"
    }
   ],
   "source": [
    "rows[0].getMetaData(\"Class\")"
   ]
  },
  {
   "cell_type": "raw",
   "metadata": {},
   "source": []
  }
 ],
 "metadata": {
  "kernelspec": {
   "display_name": "Python 2",
   "language": "python",
   "name": "python2"
  },
  "language_info": {
   "codemirror_mode": {
    "name": "ipython",
    "version": 2
   },
   "file_extension": ".py",
   "mimetype": "text/x-python",
   "name": "python",
   "nbconvert_exporter": "python",
   "pygments_lexer": "ipython2",
   "version": "2.7.11"
  }
 },
 "nbformat": 4,
 "nbformat_minor": 0
}
